{
 "cells": [
  {
   "cell_type": "code",
   "execution_count": 15,
   "id": "e6d83e94",
   "metadata": {},
   "outputs": [
    {
     "name": "stdout",
     "output_type": "stream",
     "text": [
      "Thread-18 dice hola en el tiempo: 2021-09-09 20:04:42.874833\n",
      "Thread-19 dice hola en el tiempo: 2021-09-09 20:04:42.877831Wall time: 5 ms\n",
      "\n"
     ]
    }
   ],
   "source": [
    "%%time\n",
    "import threading\n",
    "import datetime\n",
    "\n",
    "class ThreadClass(threading.Thread):\n",
    "    \n",
    "    def run(self):\n",
    "        now = datetime.datetime.now()\n",
    "        print(\"%s dice hola en el tiempo: %s\" %\n",
    "        (self.getName(), now))\n",
    "for i in range(2):\n",
    "    t = ThreadClass()\n",
    "    t.start()"
   ]
  },
  {
   "cell_type": "code",
   "execution_count": 16,
   "id": "58860b3d",
   "metadata": {},
   "outputs": [
    {
     "name": "stdout",
     "output_type": "stream",
     "text": [
      "HTTPSConnectionPool(host='www.python.org', port=443)\n",
      "HTTPSConnectionPool(host='www.yahoo.com', port=443)\n",
      "HTTPSConnectionPool(host='www.google.com', port=443)\n",
      "HTTPSConnectionPool(host='www.ujcm.edu.pe', port=443)\n",
      "Wall time: 14 ms\n"
     ]
    }
   ],
   "source": [
    "%%time\n",
    "from multiprocessing.dummy import Pool as ThreadPool\n",
    "import urllib3\n",
    "\n",
    "pool = ThreadPool(4)\n",
    "\n",
    "urls = [\n",
    "'https://www.python.org', 'https://www.yahoo.com',\n",
    "'https://www.google.com', 'https://www.ujcm.edu.pe'\n",
    "]\n",
    "\n",
    "results = pool.map(urllib3.connection_from_url, urls)\n",
    "\n",
    "for re in results:\n",
    "    print(re)\n",
    "    \n",
    "pool.close()\n",
    "pool.join()\n"
   ]
  },
  {
   "cell_type": "code",
   "execution_count": 17,
   "id": "5a80d891",
   "metadata": {},
   "outputs": [
    {
     "name": "stdout",
     "output_type": "stream",
     "text": [
      "Wall time: 17 ms\n"
     ]
    }
   ],
   "source": [
    "%%time\n",
    "import multiprocessing\n",
    "\n",
    "def worker(num):\n",
    "    \"\"\"thread worker function\"\"\"\n",
    "    print('Worker:', num )\n",
    "    return\n",
    "\n",
    "if __name__ == '__main__':\n",
    "    jobs = []\n",
    "    for i in range(5):\n",
    "        p = multiprocessing.Process(target=worker, args=(i,))\n",
    "        jobs.append(p)\n",
    "        p.start()"
   ]
  },
  {
   "cell_type": "code",
   "execution_count": 18,
   "id": "0ac1cabd",
   "metadata": {},
   "outputs": [
    {
     "name": "stdout",
     "output_type": "stream",
     "text": [
      "Wall time: 9.99 ms\n"
     ]
    }
   ],
   "source": [
    "%%time\n",
    "import multiprocessing\n",
    "import time\n",
    "\n",
    "def worker():\n",
    "    name = multiprocessing.current_process().name\n",
    "    print (name, 'Starting' )\n",
    "    time.sleep(2)\n",
    "    print (name, 'Exiting' )\n",
    "    \n",
    "def my_service():\n",
    "    name = multiprocessing.current_process().name\n",
    "    print (name, 'Starting' )\n",
    "    time.sleep(3)\n",
    "    print (name, 'Exiting' )\n",
    "    \n",
    "if __name__ == '__main__':\n",
    "    service = multiprocessing.Process(name='my_service'\n",
    "    ,\n",
    "    target=my_service)\n",
    "    worker_1 = multiprocessing.Process(name='worker 1',\n",
    "    target=worker)\n",
    "    worker_2 = multiprocessing.Process(target=worker) # default name\n",
    "    worker_1.start()\n",
    "    worker_2.start()\n",
    "    service.start()\n",
    "    \n",
    "    "
   ]
  },
  {
   "cell_type": "code",
   "execution_count": 19,
   "id": "e8737479",
   "metadata": {},
   "outputs": [
    {
     "name": "stdout",
     "output_type": "stream",
     "text": [
      "Starting 3 processes...\n",
      "Wall time: 9.99 ms\n"
     ]
    }
   ],
   "source": [
    "%%time\n",
    "import multiprocessing\n",
    "import os\n",
    "\n",
    "# how many processes we want to start\n",
    "WORKER_NUMBER = 3\n",
    "\n",
    "def worker():\n",
    "    PID = os.getpid()\n",
    "    print (\"Hello, I am the process with PID %d\" % PID)\n",
    "\n",
    "print ('Starting %d processes...' % WORKER_NUMBER)\n",
    "\n",
    "jobs = []\n",
    "for i in range(WORKER_NUMBER):\n",
    "    p = multiprocessing.Process(target=worker, args=())\n",
    "    jobs.append(p)\n",
    "    p.start()"
   ]
  },
  {
   "cell_type": "code",
   "execution_count": 20,
   "id": "98edcd05",
   "metadata": {},
   "outputs": [
    {
     "ename": "IndentationError",
     "evalue": "expected an indented block (<unknown>, line 7)",
     "output_type": "error",
     "traceback": [
      "Traceback \u001b[1;36m(most recent call last)\u001b[0m:\n",
      "  File \u001b[0;32m\"C:\\Users\\Jhorch\\anaconda3\\lib\\site-packages\\IPython\\core\\interactiveshell.py\"\u001b[0m, line \u001b[0;32m3441\u001b[0m, in \u001b[0;35mrun_code\u001b[0m\n    exec(code_obj, self.user_global_ns, self.user_ns)\n",
      "  File \u001b[0;32m\"C:\\Users\\Jhorch\\AppData\\Local\\Temp/ipykernel_4356/3757003107.py\"\u001b[0m, line \u001b[0;32m1\u001b[0m, in \u001b[0;35m<module>\u001b[0m\n    get_ipython().run_cell_magic('time', '', 'import threading\\n\\n# how many threads we want to start\\nTHREADS_COUNT = 2\\n\\nclass Threaded_worker(threading.Thread):\\ndef __init__(self):\\n    threading.Thread.__init__(self)\\n    \\ndef run(self):\\n    n = 250000000\\n    while n > 0:\\n    n -= 1\\n    \\nfor i in range(THREADS_COUNT):\\n    td = Threaded_worker()\\n    td.start()\\n')\n",
      "  File \u001b[0;32m\"C:\\Users\\Jhorch\\anaconda3\\lib\\site-packages\\IPython\\core\\interactiveshell.py\"\u001b[0m, line \u001b[0;32m2403\u001b[0m, in \u001b[0;35mrun_cell_magic\u001b[0m\n    result = fn(*args, **kwargs)\n",
      "  File \u001b[0;32m\"C:\\Users\\Jhorch\\anaconda3\\lib\\site-packages\\decorator.py\"\u001b[0m, line \u001b[0;32m232\u001b[0m, in \u001b[0;35mfun\u001b[0m\n    return caller(func, *(extras + args), **kw)\n",
      "  File \u001b[0;32m\"C:\\Users\\Jhorch\\anaconda3\\lib\\site-packages\\IPython\\core\\magic.py\"\u001b[0m, line \u001b[0;32m187\u001b[0m, in \u001b[0;35m<lambda>\u001b[0m\n    call = lambda f, *a, **k: f(*a, **k)\n",
      "  File \u001b[0;32m\"C:\\Users\\Jhorch\\anaconda3\\lib\\site-packages\\IPython\\core\\magics\\execution.py\"\u001b[0m, line \u001b[0;32m1277\u001b[0m, in \u001b[0;35mtime\u001b[0m\n    expr_ast = self.shell.compile.ast_parse(expr)\n",
      "\u001b[1;36m  File \u001b[1;32m\"C:\\Users\\Jhorch\\anaconda3\\lib\\site-packages\\IPython\\core\\compilerop.py\"\u001b[1;36m, line \u001b[1;32m101\u001b[1;36m, in \u001b[1;35mast_parse\u001b[1;36m\u001b[0m\n\u001b[1;33m    return compile(source, filename, symbol, self.flags | PyCF_ONLY_AST, 1)\u001b[0m\n",
      "\u001b[1;36m  File \u001b[1;32m\"<unknown>\"\u001b[1;36m, line \u001b[1;32m7\u001b[0m\n\u001b[1;33m    def __init__(self):\u001b[0m\n\u001b[1;37m    ^\u001b[0m\n\u001b[1;31mIndentationError\u001b[0m\u001b[1;31m:\u001b[0m expected an indented block\n"
     ]
    }
   ],
   "source": [
    "%%time\n",
    "import threading\n",
    "\n",
    "# how many threads we want to start\n",
    "THREADS_COUNT = 2\n",
    "\n",
    "class Threaded_worker(threading.Thread):\n",
    "def __init__(self):\n",
    "    threading.Thread.__init__(self)\n",
    "    \n",
    "def run(self):\n",
    "    n = 250000000\n",
    "    while n > 0:\n",
    "    n -= 1\n",
    "    \n",
    "for i in range(THREADS_COUNT):\n",
    "    td = Threaded_worker()\n",
    "    td.start()"
   ]
  },
  {
   "cell_type": "code",
   "execution_count": 21,
   "id": "3d12a07e",
   "metadata": {},
   "outputs": [
    {
     "ename": "IndentationError",
     "evalue": "expected an indented block (<unknown>, line 13)",
     "output_type": "error",
     "traceback": [
      "Traceback \u001b[1;36m(most recent call last)\u001b[0m:\n",
      "  File \u001b[0;32m\"C:\\Users\\Jhorch\\anaconda3\\lib\\site-packages\\IPython\\core\\interactiveshell.py\"\u001b[0m, line \u001b[0;32m3441\u001b[0m, in \u001b[0;35mrun_code\u001b[0m\n    exec(code_obj, self.user_global_ns, self.user_ns)\n",
      "  File \u001b[0;32m\"C:\\Users\\Jhorch\\AppData\\Local\\Temp/ipykernel_4356/4196222701.py\"\u001b[0m, line \u001b[0;32m1\u001b[0m, in \u001b[0;35m<module>\u001b[0m\n    get_ipython().run_cell_magic('time', '', 'import threading\\n\\n# how many threads we want to start\\nTHREADS_COUNT = 2\\n\\nclass Threaded_worker(threading.Thread):\\n    def __init__(self):\\n        threading.Thread.__init__(self)\\n    \\n    def run(self):\\n        n = 250000000\\n        while n > 0:\\n        n -= 1\\n    \\nfor i in range(THREADS_COUNT):\\n    td = Threaded_worker()\\n    td.start()\\n')\n",
      "  File \u001b[0;32m\"C:\\Users\\Jhorch\\anaconda3\\lib\\site-packages\\IPython\\core\\interactiveshell.py\"\u001b[0m, line \u001b[0;32m2403\u001b[0m, in \u001b[0;35mrun_cell_magic\u001b[0m\n    result = fn(*args, **kwargs)\n",
      "  File \u001b[0;32m\"C:\\Users\\Jhorch\\anaconda3\\lib\\site-packages\\decorator.py\"\u001b[0m, line \u001b[0;32m232\u001b[0m, in \u001b[0;35mfun\u001b[0m\n    return caller(func, *(extras + args), **kw)\n",
      "  File \u001b[0;32m\"C:\\Users\\Jhorch\\anaconda3\\lib\\site-packages\\IPython\\core\\magic.py\"\u001b[0m, line \u001b[0;32m187\u001b[0m, in \u001b[0;35m<lambda>\u001b[0m\n    call = lambda f, *a, **k: f(*a, **k)\n",
      "  File \u001b[0;32m\"C:\\Users\\Jhorch\\anaconda3\\lib\\site-packages\\IPython\\core\\magics\\execution.py\"\u001b[0m, line \u001b[0;32m1277\u001b[0m, in \u001b[0;35mtime\u001b[0m\n    expr_ast = self.shell.compile.ast_parse(expr)\n",
      "\u001b[1;36m  File \u001b[1;32m\"C:\\Users\\Jhorch\\anaconda3\\lib\\site-packages\\IPython\\core\\compilerop.py\"\u001b[1;36m, line \u001b[1;32m101\u001b[1;36m, in \u001b[1;35mast_parse\u001b[1;36m\u001b[0m\n\u001b[1;33m    return compile(source, filename, symbol, self.flags | PyCF_ONLY_AST, 1)\u001b[0m\n",
      "\u001b[1;36m  File \u001b[1;32m\"<unknown>\"\u001b[1;36m, line \u001b[1;32m13\u001b[0m\n\u001b[1;33m    n -= 1\u001b[0m\n\u001b[1;37m    ^\u001b[0m\n\u001b[1;31mIndentationError\u001b[0m\u001b[1;31m:\u001b[0m expected an indented block\n"
     ]
    }
   ],
   "source": [
    "%%time\n",
    "import threading\n",
    "\n",
    "# how many threads we want to start\n",
    "THREADS_COUNT = 2\n",
    "\n",
    "class Threaded_worker(threading.Thread):\n",
    "    def __init__(self):\n",
    "        threading.Thread.__init__(self)\n",
    "    \n",
    "    def run(self):\n",
    "        n = 250000000\n",
    "        while n > 0:\n",
    "        n -= 1\n",
    "    \n",
    "for i in range(THREADS_COUNT):\n",
    "    td = Threaded_worker()\n",
    "    td.start()\n"
   ]
  },
  {
   "cell_type": "code",
   "execution_count": 22,
   "id": "eb9af86a",
   "metadata": {},
   "outputs": [
    {
     "ename": "IndentationError",
     "evalue": "expected an indented block (<unknown>, line 8)",
     "output_type": "error",
     "traceback": [
      "Traceback \u001b[1;36m(most recent call last)\u001b[0m:\n",
      "  File \u001b[0;32m\"C:\\Users\\Jhorch\\anaconda3\\lib\\site-packages\\IPython\\core\\interactiveshell.py\"\u001b[0m, line \u001b[0;32m3441\u001b[0m, in \u001b[0;35mrun_code\u001b[0m\n    exec(code_obj, self.user_global_ns, self.user_ns)\n",
      "  File \u001b[0;32m\"C:\\Users\\Jhorch\\AppData\\Local\\Temp/ipykernel_4356/4226857578.py\"\u001b[0m, line \u001b[0;32m1\u001b[0m, in \u001b[0;35m<module>\u001b[0m\n    get_ipython().run_cell_magic('time', '', 'import multiprocessing\\n\\nWORKER_NUMBER = 2\\n\\ndef worker():\\n    n = 250000000\\n    while n > 0:\\n    n -= 1\\njobs = []\\nfor i in range(WORKER_NUMBER):\\n    p = multiprocessing.Process(target=worker, args=())\\n    jobs.append(p)\\n    p.start()\\n')\n",
      "  File \u001b[0;32m\"C:\\Users\\Jhorch\\anaconda3\\lib\\site-packages\\IPython\\core\\interactiveshell.py\"\u001b[0m, line \u001b[0;32m2403\u001b[0m, in \u001b[0;35mrun_cell_magic\u001b[0m\n    result = fn(*args, **kwargs)\n",
      "  File \u001b[0;32m\"C:\\Users\\Jhorch\\anaconda3\\lib\\site-packages\\decorator.py\"\u001b[0m, line \u001b[0;32m232\u001b[0m, in \u001b[0;35mfun\u001b[0m\n    return caller(func, *(extras + args), **kw)\n",
      "  File \u001b[0;32m\"C:\\Users\\Jhorch\\anaconda3\\lib\\site-packages\\IPython\\core\\magic.py\"\u001b[0m, line \u001b[0;32m187\u001b[0m, in \u001b[0;35m<lambda>\u001b[0m\n    call = lambda f, *a, **k: f(*a, **k)\n",
      "  File \u001b[0;32m\"C:\\Users\\Jhorch\\anaconda3\\lib\\site-packages\\IPython\\core\\magics\\execution.py\"\u001b[0m, line \u001b[0;32m1277\u001b[0m, in \u001b[0;35mtime\u001b[0m\n    expr_ast = self.shell.compile.ast_parse(expr)\n",
      "\u001b[1;36m  File \u001b[1;32m\"C:\\Users\\Jhorch\\anaconda3\\lib\\site-packages\\IPython\\core\\compilerop.py\"\u001b[1;36m, line \u001b[1;32m101\u001b[1;36m, in \u001b[1;35mast_parse\u001b[1;36m\u001b[0m\n\u001b[1;33m    return compile(source, filename, symbol, self.flags | PyCF_ONLY_AST, 1)\u001b[0m\n",
      "\u001b[1;36m  File \u001b[1;32m\"<unknown>\"\u001b[1;36m, line \u001b[1;32m8\u001b[0m\n\u001b[1;33m    n -= 1\u001b[0m\n\u001b[1;37m    ^\u001b[0m\n\u001b[1;31mIndentationError\u001b[0m\u001b[1;31m:\u001b[0m expected an indented block\n"
     ]
    }
   ],
   "source": [
    "%%time\n",
    "import multiprocessing\n",
    "\n",
    "WORKER_NUMBER = 2\n",
    "\n",
    "def worker():\n",
    "    n = 250000000\n",
    "    while n > 0:\n",
    "    n -= 1\n",
    "jobs = []\n",
    "for i in range(WORKER_NUMBER):\n",
    "    p = multiprocessing.Process(target=worker, args=())\n",
    "    jobs.append(p)\n",
    "    p.start()\n"
   ]
  },
  {
   "cell_type": "code",
   "execution_count": null,
   "id": "6136b465",
   "metadata": {},
   "outputs": [],
   "source": []
  }
 ],
 "metadata": {
  "kernelspec": {
   "display_name": "Python 3 (ipykernel)",
   "language": "python",
   "name": "python3"
  },
  "language_info": {
   "codemirror_mode": {
    "name": "ipython",
    "version": 3
   },
   "file_extension": ".py",
   "mimetype": "text/x-python",
   "name": "python",
   "nbconvert_exporter": "python",
   "pygments_lexer": "ipython3",
   "version": "3.8.8"
  }
 },
 "nbformat": 4,
 "nbformat_minor": 5
}
