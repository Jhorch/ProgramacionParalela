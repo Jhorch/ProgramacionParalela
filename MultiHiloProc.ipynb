{
  "nbformat": 4,
  "nbformat_minor": 0,
  "metadata": {
    "colab": {
      "name": "MultiHiloProc.ipynb",
      "provenance": [],
      "include_colab_link": true
    },
    "kernelspec": {
      "name": "python3",
      "display_name": "Python 3"
    },
    "language_info": {
      "name": "python"
    }
  },
  "cells": [
    {
      "cell_type": "markdown",
      "metadata": {
        "id": "view-in-github",
        "colab_type": "text"
      },
      "source": [
        "<a href=\"https://colab.research.google.com/github/Jhorch/ProgramacionParalela/blob/main/MultiHiloProc.ipynb\" target=\"_parent\"><img src=\"https://colab.research.google.com/assets/colab-badge.svg\" alt=\"Open In Colab\"/></a>"
      ]
    },
    {
      "cell_type": "code",
      "metadata": {
        "id": "5x_WqEpeNwIu",
        "outputId": "eaebd9f1-421f-49a3-f7c8-e5da4593de5e",
        "colab": {
          "base_uri": "https://localhost:8080/"
        }
      },
      "source": [
        "%%time\n",
        "# secuencial (no paralelizado)\n",
        "# ==============================================================================\n",
        "import pandas as pd\n",
        "import numpy as np\n",
        "\n",
        "# Se define la función\n",
        "def suma_acumulada(number):\n",
        "    return sum(range(1, number + 1))\n",
        "\n",
        "# Lista de elementos sobre los que se quiere aplicar la función\n",
        "valores = [10**8, 10**8, 10**8, 10**8, 10**8]"
      ],
      "execution_count": 11,
      "outputs": [
        {
          "output_type": "stream",
          "name": "stdout",
          "text": [
            "CPU times: user 8 µs, sys: 0 ns, total: 8 µs\n",
            "Wall time: 11 µs\n"
          ]
        }
      ]
    },
    {
      "cell_type": "code",
      "metadata": {
        "colab": {
          "base_uri": "https://localhost:8080/"
        },
        "id": "p0svlQ1LNyjm",
        "outputId": "b74dc059-a297-47ca-c397-9ecbc6821a88"
      },
      "source": [
        "%%time\n",
        "\n",
        "# Aplicar la función sobre cada elemento de forma secuencial\n",
        "resultados = []\n",
        "\n",
        "for valor in valores:\n",
        "    resultado = suma_acumulada(valor)\n",
        "    resultados.append(resultado)\n",
        "    \n",
        "resultados"
      ],
      "execution_count": 2,
      "outputs": [
        {
          "output_type": "stream",
          "name": "stdout",
          "text": [
            "CPU times: user 10.6 s, sys: 37.8 ms, total: 10.6 s\n",
            "Wall time: 10.6 s\n"
          ]
        }
      ]
    },
    {
      "cell_type": "code",
      "metadata": {
        "id": "YeFRK2zfOJPp",
        "outputId": "f24a1ce9-e4ae-435d-d3e0-a8470aaba164",
        "colab": {
          "base_uri": "https://localhost:8080/"
        }
      },
      "source": [
        "%%time\n",
        "# multiprocessing Pool.map\n",
        "# ==============================================================================\n",
        "import pandas as pd\n",
        "import numpy as np\n",
        "import multiprocessing\n",
        "\n",
        "# Se define la función\n",
        "def suma_acumulada(number):\n",
        "    return sum(range(1, number + 1))\n",
        "\n",
        "# Lista de elementos sobre los que se quiere aplicar la función\n",
        "valores = [10**8, 10**8, 10**8, 10**8, 10**8]"
      ],
      "execution_count": 10,
      "outputs": [
        {
          "output_type": "stream",
          "name": "stdout",
          "text": [
            "CPU times: user 0 ns, sys: 36 µs, total: 36 µs\n",
            "Wall time: 40.3 µs\n"
          ]
        }
      ]
    },
    {
      "cell_type": "code",
      "metadata": {
        "colab": {
          "base_uri": "https://localhost:8080/"
        },
        "id": "pniwcxknONKp",
        "outputId": "74d9fa84-2b51-40a8-ee15-f15847d12f9a"
      },
      "source": [
        "%%time\n",
        "\n",
        "# Aplicar la función sobre cada elemento en paralelo\n",
        "pool = multiprocessing.Pool(processes=multiprocessing.cpu_count())\n",
        "resultados = pool.map(suma_acumulada, valores)\n",
        "resultados"
      ],
      "execution_count": 9,
      "outputs": [
        {
          "output_type": "stream",
          "name": "stdout",
          "text": [
            "CPU times: user 68.2 ms, sys: 16.9 ms, total: 85 ms\n",
            "Wall time: 11.7 s\n"
          ]
        }
      ]
    },
    {
      "cell_type": "code",
      "metadata": {
        "id": "qrTqBplefUbT",
        "outputId": "62e0c2dd-f67a-4be1-ad1f-beb17683799b",
        "colab": {
          "base_uri": "https://localhost:8080/"
        }
      },
      "source": [
        "%%time\n",
        "import threading  \n",
        "import time  \n",
        "  \n",
        "  \n",
        "def worker(num):  \n",
        "    time.sleep(1)  \n",
        "    print(\"The num is  %d\" % num)  \n",
        "    print(t.getName()  )\n",
        "    return  \n",
        "  \n",
        "for i in range(20):  \n",
        "    t = threading.Thread(target=worker, args=(i,), name=\"testThread\")  \n",
        "    t.start()  "
      ],
      "execution_count": 8,
      "outputs": [
        {
          "output_type": "stream",
          "name": "stdout",
          "text": [
            "CPU times: user 2.99 ms, sys: 851 µs, total: 3.84 ms\n",
            "Wall time: 8.06 ms\n"
          ]
        }
      ]
    },
    {
      "cell_type": "code",
      "metadata": {
        "colab": {
          "base_uri": "https://localhost:8080/"
        },
        "id": "QA3SS_YGfgR9",
        "outputId": "d742f042-2ffa-4c00-fa86-564bcfc3f9ae"
      },
      "source": [
        "%%time\n",
        "from time import ctime, sleep  \n",
        "  \n",
        "  \n",
        "def music(argv):  \n",
        "    for i in range(2):  \n",
        "        print(\"listen music  %s. %s\" % (argv, ctime()) )\n",
        "        sleep(1)  \n",
        "  \n",
        "  \n",
        "def movie(argv):  \n",
        "    for i in range(2):  \n",
        "        print(\"watch movie!  %s. %s\" % (argv, ctime())  )\n",
        "        sleep(5)  \n",
        "  \n",
        "if __name__ == '__main__':  \n",
        "    music(u'trouble is a friend')  \n",
        "    movie(u'Transformadores')  \n",
        "    print(\"all over %s\" % ctime() )"
      ],
      "execution_count": 7,
      "outputs": [
        {
          "output_type": "stream",
          "name": "stdout",
          "text": [
            "listen music  trouble is a friend. Fri Sep 10 01:26:55 2021\n",
            "listen music  trouble is a friend. Fri Sep 10 01:26:56 2021\n",
            "watch movie!  Transformadores. Fri Sep 10 01:26:57 2021\n",
            "watch movie!  Transformadores. Fri Sep 10 01:27:02 2021\n",
            "all over Fri Sep 10 01:27:07 2021\n",
            "CPU times: user 48.2 ms, sys: 6.88 ms, total: 55.1 ms\n",
            "Wall time: 12 s\n"
          ]
        }
      ]
    },
    {
      "cell_type": "code",
      "metadata": {
        "colab": {
          "base_uri": "https://localhost:8080/"
        },
        "id": "zF0PdYNSgJ8X",
        "outputId": "c528d982-163b-43c2-b52d-945de98edc36"
      },
      "source": [
        "%%time\n",
        "import multiprocessing  \n",
        "  \n",
        "def worker(num):  \n",
        "    \"\"\"thread worker function\"\"\"  \n",
        "    print('Worker:', num  )\n",
        "    return  \n",
        "  \n",
        "if __name__ == '__main__':  \n",
        "    jobs = []  \n",
        "    for i in range(5):  \n",
        "        p = multiprocessing.Process(target=worker, args=(i,))  \n",
        "        jobs.append(p)  \n",
        "        p.start()  "
      ],
      "execution_count": 6,
      "outputs": [
        {
          "output_type": "stream",
          "name": "stdout",
          "text": [
            "Worker: 1\n",
            "Worker: 2\n",
            "Worker: 0\n",
            "Worker: 3\n",
            "CPU times: user 13.2 ms, sys: 16.1 ms, total: 29.3 ms\n",
            "Wall time: 40.6 ms\n",
            "Worker: 4\n"
          ]
        }
      ]
    },
    {
      "cell_type": "code",
      "metadata": {
        "colab": {
          "base_uri": "https://localhost:8080/"
        },
        "id": "1h3GBmQLgpou",
        "outputId": "40268500-17fc-40ae-b33b-d94439a1df36"
      },
      "source": [
        "%%time\n",
        "import multiprocessing  \n",
        "import time  \n",
        "  \n",
        "def worker():  \n",
        "    name = multiprocessing.current_process().name  \n",
        "    print (name, 'Starting'  )\n",
        "    time.sleep(2)  \n",
        "    print (name, 'Exiting'  )\n",
        "  \n",
        "def my_service():  \n",
        "    name = multiprocessing.current_process().name  \n",
        "    print (name, 'Starting'  )\n",
        "    time.sleep(3)  \n",
        "    print (name, 'Exiting'  )\n",
        "  \n",
        "if __name__ == '__main__':  \n",
        "    service = multiprocessing.Process(name='my_service',  \n",
        "                                      target=my_service)  \n",
        "    worker_1 = multiprocessing.Process(name='worker 1',  \n",
        "                                       target=worker)  \n",
        "    worker_2 = multiprocessing.Process(target=worker) # default name  \n",
        "    worker_1.start()  \n",
        "    worker_2.start()  \n",
        "    service.start()      "
      ],
      "execution_count": 5,
      "outputs": [
        {
          "output_type": "stream",
          "name": "stdout",
          "text": [
            "worker 1 Starting\n",
            "Process-3 Starting\n",
            "my_service Starting\n"
          ]
        }
      ]
    },
    {
      "cell_type": "code",
      "metadata": {
        "colab": {
          "base_uri": "https://localhost:8080/"
        },
        "id": "Lzr8bjhRhyL5",
        "outputId": "d38a79a3-7284-4dd8-8450-6b88fa2177fc"
      },
      "source": [
        "%%time\n",
        "import threading\n",
        "  \n",
        "# how many threads we want to start  \n",
        "THREADS_COUNT = 3  \n",
        "\n",
        "class Threaded_worker(threading.Thread):\n",
        "    def __init__(self):\n",
        "        threading.Thread.__init__(self)\n",
        "    def run(self):\n",
        "        threadName = threading.currentThread().getName()\n",
        "        print(\"Hello, I am the thread %s\" % threadName)\n",
        "\n",
        "print('Starting %d threads...' % THREADS_COUNT)\n",
        "for i in range(THREADS_COUNT):\n",
        "    td = Threaded_worker()\n",
        "    td.start()"
      ],
      "execution_count": null,
      "outputs": [
        {
          "output_type": "stream",
          "name": "stdout",
          "text": [
            "Starting 3 threads...\n",
            "Hello, I am the thread Thread-11\n",
            "Hello, I am the thread Thread-12Hello, I am the thread Thread-13\n",
            "\n"
          ]
        }
      ]
    },
    {
      "cell_type": "code",
      "metadata": {
        "colab": {
          "base_uri": "https://localhost:8080/"
        },
        "id": "LCEqCaY9iI8t",
        "outputId": "6a16c823-ddc7-4127-c015-6a64468af488"
      },
      "source": [
        "%%time\n",
        "import multiprocessing\n",
        "import os\n",
        "\n",
        "# how many processes we want to start\n",
        "WORKER_NUMBER = 3\n",
        "\n",
        "def worker():\n",
        "    PID = os.getpid()\n",
        "    print (\"Hello, I am the process with PID %d\" % PID)\n",
        "\n",
        "print ('Starting %d processes...' % WORKER_NUMBER)\n",
        "\n",
        "jobs = []\n",
        "for i in range(WORKER_NUMBER):\n",
        "    p = multiprocessing.Process(target=worker, args=())\n",
        "    jobs.append(p)\n",
        "    p.start()"
      ],
      "execution_count": null,
      "outputs": [
        {
          "output_type": "stream",
          "name": "stdout",
          "text": [
            "Starting 3 processes...\n",
            "Hello, I am the process with PID 232\n",
            "Hello, I am the process with PID 235\n",
            "Hello, I am the process with PID 238\n"
          ]
        }
      ]
    },
    {
      "cell_type": "code",
      "metadata": {
        "id": "oL7mHcBliiUQ"
      },
      "source": [
        "%%time\n",
        "def countdown(n):\n",
        "    while n > 0:\n",
        "        n -= 1\n",
        "\n",
        "COUNT = 500000000\n",
        "countdown(COUNT)"
      ],
      "execution_count": null,
      "outputs": []
    },
    {
      "cell_type": "code",
      "metadata": {
        "colab": {
          "base_uri": "https://localhost:8080/"
        },
        "id": "HdEB4Ouii2Gv",
        "outputId": "6abd8468-1abc-4edc-a69d-7fc6e501379b"
      },
      "source": [
        "%%time\n",
        "import threading\n",
        "\n",
        "# how many threads we want to start\n",
        "THREADS_COUNT = 2\n",
        "\n",
        "class Threaded_worker(threading.Thread):\n",
        "    def __init__(self):\n",
        "        threading.Thread.__init__(self)\n",
        "\n",
        "    def run(self):\n",
        "        n = 250000000\n",
        "        while n > 0:\n",
        "            n -= 1\n",
        "\n",
        "for i in range(THREADS_COUNT):\n",
        "    td = Threaded_worker()\n",
        "    td.start()"
      ],
      "execution_count": null,
      "outputs": [
        {
          "output_type": "stream",
          "name": "stdout",
          "text": [
            "CPU times: user 21.2 ms, sys: 1.01 ms, total: 22.2 ms\n",
            "Wall time: 21.9 ms\n"
          ]
        }
      ]
    },
    {
      "cell_type": "code",
      "metadata": {
        "colab": {
          "base_uri": "https://localhost:8080/"
        },
        "id": "zTbeIcAZjUsj",
        "outputId": "b1c02b90-bf8b-459a-9f1b-5b2dac4c6c66"
      },
      "source": [
        "%%time\n",
        "import multiprocessing\n",
        "\n",
        "WORKER_NUMBER = 2\n",
        "\n",
        "def worker():\n",
        "    n = 250000000\n",
        "    while n > 0:\n",
        "        n -= 1\n",
        "\n",
        "jobs = []\n",
        "for i in range(WORKER_NUMBER):\n",
        "    p = multiprocessing.Process(target=worker, args=())\n",
        "    jobs.append(p)\n",
        "    p.start()"
      ],
      "execution_count": null,
      "outputs": [
        {
          "output_type": "stream",
          "name": "stdout",
          "text": [
            "CPU times: user 220 ms, sys: 11.1 ms, total: 231 ms\n",
            "Wall time: 239 ms\n"
          ]
        }
      ]
    }
  ]
}